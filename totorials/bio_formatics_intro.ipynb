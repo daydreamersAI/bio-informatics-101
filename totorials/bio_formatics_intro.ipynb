{
  "nbformat": 4,
  "nbformat_minor": 0,
  "metadata": {
    "colab": {
      "provenance": []
    },
    "kernelspec": {
      "name": "python3",
      "display_name": "Python 3"
    },
    "language_info": {
      "name": "python"
    }
  },
  "cells": [
    {
      "cell_type": "code",
      "execution_count": 9,
      "metadata": {
        "id": "m-Gt-x--BHic"
      },
      "outputs": [],
      "source": [
        "a = 2\n",
        "b = 3\n",
        "c = a+b"
      ]
    },
    {
      "cell_type": "markdown",
      "source": [
        " Surabhi\n",
        "\n",
        "1.   hello\n",
        "2.   List item\n",
        "\n"
      ],
      "metadata": {
        "id": "hwtxTPkRBU1x"
      }
    },
    {
      "cell_type": "code",
      "source": [
        "print(c)"
      ],
      "metadata": {
        "colab": {
          "base_uri": "https://localhost:8080/"
        },
        "id": "aIO6sfuFBZOM",
        "outputId": "79d7e819-161b-4a9a-aa03-545213973848"
      },
      "execution_count": 10,
      "outputs": [
        {
          "output_type": "stream",
          "name": "stdout",
          "text": [
            "5\n"
          ]
        }
      ]
    },
    {
      "cell_type": "code",
      "source": [
        "c**2\n"
      ],
      "metadata": {
        "colab": {
          "base_uri": "https://localhost:8080/"
        },
        "id": "MdVRXTmqB6iC",
        "outputId": "c76aaca5-885c-4865-ade1-fa3b934b9e26"
      },
      "execution_count": 12,
      "outputs": [
        {
          "output_type": "execute_result",
          "data": {
            "text/plain": [
              "25"
            ]
          },
          "metadata": {},
          "execution_count": 12
        }
      ]
    },
    {
      "cell_type": "code",
      "source": [],
      "metadata": {
        "id": "AfNlzvylB_vc"
      },
      "execution_count": null,
      "outputs": []
    }
  ]
}