{
  "nbformat": 4,
  "nbformat_minor": 0,
  "metadata": {
    "colab": {
      "provenance": []
    },
    "kernelspec": {
      "name": "python3",
      "display_name": "Python 3"
    },
    "language_info": {
      "name": "python"
    }
  },
  "cells": [
    {
      "cell_type": "code",
      "execution_count": null,
      "metadata": {
        "colab": {
          "base_uri": "https://localhost:8080/"
        },
        "id": "qfwDQ5GiSyRx",
        "outputId": "eacc3c52-407b-4378-dff5-3a7f085f7cb2"
      },
      "outputs": [
        {
          "output_type": "stream",
          "name": "stdout",
          "text": [
            "False\n"
          ]
        }
      ],
      "source": [
        "# Data Types\n",
        "# Int\n",
        "\"No decimal point\"\n",
        "98,-45,89\n",
        "\n",
        "# Float\n",
        "\"Decimal point\"\n",
        "38.44,-39.11,9993.773\n",
        "\n",
        "# String\n",
        "'Hello'\n",
        "\"Brother ewww\"\n",
        "\n",
        "# Bool\n",
        "\"True\"\n",
        "\"False\"\n",
        "\n",
        "print (1>2)"
      ]
    },
    {
      "cell_type": "code",
      "source": [
        "print (4.6)"
      ],
      "metadata": {
        "colab": {
          "base_uri": "https://localhost:8080/"
        },
        "id": "LVyr-RrdW9Tx",
        "outputId": "b1d8e29a-27ee-4286-f770-5009542518ad"
      },
      "execution_count": null,
      "outputs": [
        {
          "output_type": "stream",
          "name": "stdout",
          "text": [
            "4.6\n"
          ]
        }
      ]
    },
    {
      "cell_type": "code",
      "source": [
        "print (\"Vivek's dheri\")"
      ],
      "metadata": {
        "colab": {
          "base_uri": "https://localhost:8080/"
        },
        "id": "KC5lid1QXZzh",
        "outputId": "bcde782d-9d25-4da6-b622-e57d2c765d2d"
      },
      "execution_count": null,
      "outputs": [
        {
          "output_type": "stream",
          "name": "stdout",
          "text": [
            "Vivek's dheri\n"
          ]
        }
      ]
    },
    {
      "cell_type": "code",
      "source": [
        "\n",
        "print ('Askhata is still not here')"
      ],
      "metadata": {
        "colab": {
          "base_uri": "https://localhost:8080/"
        },
        "id": "prgtO9utXjdK",
        "outputId": "9aa5abce-fd34-4930-9c61-cb7ac8e300a3"
      },
      "execution_count": null,
      "outputs": [
        {
          "output_type": "stream",
          "name": "stdout",
          "text": [
            "Askhata is still not here\n"
          ]
        }
      ]
    },
    {
      "cell_type": "code",
      "source": [
        "print ('Vivek is doing Suryanamaskar' end=\\n)"
      ],
      "metadata": {
        "colab": {
          "base_uri": "https://localhost:8080/",
          "height": 109
        },
        "id": "w6tOGvH6Yy6r",
        "outputId": "8a95dabb-2acf-437c-f27c-f6b59651f17b"
      },
      "execution_count": null,
      "outputs": [
        {
          "output_type": "error",
          "ename": "SyntaxError",
          "evalue": "invalid syntax. Perhaps you forgot a comma? (<ipython-input-10-c9c84bb3d5b5>, line 1)",
          "traceback": [
            "\u001b[0;36m  File \u001b[0;32m\"<ipython-input-10-c9c84bb3d5b5>\"\u001b[0;36m, line \u001b[0;32m1\u001b[0m\n\u001b[0;31m    print ('Vivek is doing Suryanamaskar' end=\\n)\u001b[0m\n\u001b[0m           ^\u001b[0m\n\u001b[0;31mSyntaxError\u001b[0m\u001b[0;31m:\u001b[0m invalid syntax. Perhaps you forgot a comma?\n"
          ]
        }
      ]
    },
    {
      "cell_type": "code",
      "source": [],
      "metadata": {
        "id": "wdpfZRmXZUTy"
      },
      "execution_count": null,
      "outputs": []
    },
    {
      "cell_type": "code",
      "source": [
        "# #print(akshata)\n",
        "kp = [1,2,3,'viv', 'rutuj','nunnu']\n",
        "# for member in kp:\n",
        "#   print(member)\n",
        "# for dukkar in range(6):\n",
        "#   #print(dukkar*2)\n",
        "#   print(f'Akshata loves {akshata}')\n",
        "print(kp)\n",
        "for i in kp:\n",
        "  print(i*2)\n",
        "#print(f'I love ')"
      ],
      "metadata": {
        "colab": {
          "base_uri": "https://localhost:8080/"
        },
        "id": "ZQJAzWNZe5Nw",
        "outputId": "b6709c86-9a45-43fa-9afe-c0d6c0f2aebf"
      },
      "execution_count": null,
      "outputs": [
        {
          "output_type": "stream",
          "name": "stdout",
          "text": [
            "[1, 2, 3, 'viv', 'rutuj', 'nunnu']\n",
            "2\n",
            "4\n",
            "6\n",
            "vivviv\n",
            "rutujrutuj\n",
            "nunnununnu\n"
          ]
        }
      ]
    },
    {
      "cell_type": "code",
      "source": [
        "for i in 'Akshata':\n",
        "  print(i*5)"
      ],
      "metadata": {
        "colab": {
          "base_uri": "https://localhost:8080/"
        },
        "id": "IMIuuq8Gf4rB",
        "outputId": "ba7a8b8f-7171-4baf-a6d4-e46c16b217e7"
      },
      "execution_count": null,
      "outputs": [
        {
          "output_type": "stream",
          "name": "stdout",
          "text": [
            "AAAAA\n",
            "kkkkk\n",
            "sssss\n",
            "hhhhh\n",
            "aaaaa\n",
            "ttttt\n",
            "aaaaa\n"
          ]
        }
      ]
    },
    {
      "cell_type": "code",
      "source": [
        "i = 'Ákshata'\n",
        "print(i)"
      ],
      "metadata": {
        "colab": {
          "base_uri": "https://localhost:8080/"
        },
        "id": "KV7-oUkyjN_0",
        "outputId": "a69ed772-21ae-4872-9a14-42d119bb561e"
      },
      "execution_count": null,
      "outputs": [
        {
          "output_type": "stream",
          "name": "stdout",
          "text": [
            "Ákshata\n"
          ]
        }
      ]
    },
    {
      "cell_type": "code",
      "source": [
        "k"
      ],
      "metadata": {
        "colab": {
          "base_uri": "https://localhost:8080/"
        },
        "id": "GmK004rgiw2A",
        "outputId": "8ad4fa1d-58cd-46eb-c321-eaff237b5b34"
      },
      "execution_count": null,
      "outputs": [
        {
          "output_type": "execute_result",
          "data": {
            "text/plain": [
              "[0, 1, 4, 9, 16]"
            ]
          },
          "metadata": {},
          "execution_count": 30
        }
      ]
    },
    {
      "cell_type": "code",
      "source": [
        "dick = {}\n",
        "\n",
        "dick['vivek'] = 'long'\n",
        "dick['smit'] = 'imli size'\n",
        "\n",
        "print(dick)"
      ],
      "metadata": {
        "colab": {
          "base_uri": "https://localhost:8080/"
        },
        "id": "s9vOgIeLixLu",
        "outputId": "348f3a03-8535-4e6e-9f25-af335bfe43f2"
      },
      "execution_count": null,
      "outputs": [
        {
          "output_type": "stream",
          "name": "stdout",
          "text": [
            "{'vivek': 'long', 'smit': 'imli size'}\n"
          ]
        }
      ]
    },
    {
      "cell_type": "code",
      "source": [
        "print(dick['smit'])"
      ],
      "metadata": {
        "colab": {
          "base_uri": "https://localhost:8080/"
        },
        "id": "M9ARXdMmkQ4B",
        "outputId": "19dcd2c9-4f1a-4ac2-846b-42ecc5528fc9"
      },
      "execution_count": null,
      "outputs": [
        {
          "output_type": "stream",
          "name": "stdout",
          "text": [
            "imli size\n"
          ]
        }
      ]
    },
    {
      "cell_type": "code",
      "source": [
        "dick = {}\n",
        "dick[vivek] = '78'\n",
        "dick[surabhi] = '81'\n",
        "dick[akshata] = '80'\n",
        "\n",
        "dick[akshata]"
      ],
      "metadata": {
        "colab": {
          "base_uri": "https://localhost:8080/",
          "height": 36
        },
        "id": "bZVQa6azlzq3",
        "outputId": "4205fad9-5ef6-4712-b4eb-ef5cb6363e3f"
      },
      "execution_count": null,
      "outputs": [
        {
          "output_type": "execute_result",
          "data": {
            "text/plain": [
              "'80'"
            ],
            "application/vnd.google.colaboratory.intrinsic+json": {
              "type": "string"
            }
          },
          "metadata": {},
          "execution_count": 43
        }
      ]
    },
    {
      "cell_type": "code",
      "source": [
        "print('Bioinformatics')"
      ],
      "metadata": {
        "id": "AkF6bCEWmNUQ",
        "colab": {
          "base_uri": "https://localhost:8080/"
        },
        "outputId": "d2eae521-0381-496c-eaae-920fe63e6415"
      },
      "execution_count": 4,
      "outputs": [
        {
          "output_type": "stream",
          "name": "stdout",
          "text": [
            "Bioinformatics\n"
          ]
        }
      ]
    },
    {
      "cell_type": "code",
      "source": [],
      "metadata": {
        "id": "Aufvgbplmi1w"
      },
      "execution_count": null,
      "outputs": []
    }
  ]
}